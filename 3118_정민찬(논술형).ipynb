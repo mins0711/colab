{
  "nbformat": 4,
  "nbformat_minor": 0,
  "metadata": {
    "colab": {
      "name": "3118 정민찬(논술형).ipynb",
      "provenance": [],
      "collapsed_sections": [],
      "authorship_tag": "ABX9TyPstEgVJlr8kuA/eIsg6mH1",
      "include_colab_link": true
    },
    "kernelspec": {
      "name": "python3",
      "display_name": "Python 3"
    },
    "language_info": {
      "name": "python"
    }
  },
  "cells": [
    {
      "cell_type": "markdown",
      "metadata": {
        "id": "view-in-github",
        "colab_type": "text"
      },
      "source": [
        "<a href=\"https://colab.research.google.com/github/mins0711/colab/blob/main/3118_%EC%A0%95%EB%AF%BC%EC%B0%AC(%EB%85%BC%EC%88%A0%ED%98%95).ipynb\" target=\"_parent\"><img src=\"https://colab.research.google.com/assets/colab-badge.svg\" alt=\"Open In Colab\"/></a>"
      ]
    },
    {
      "cell_type": "markdown",
      "source": [
        "2022학년도 응용프로그래밍 개발 - 논술형 컴퓨터과 \n",
        "\n",
        "3학년 1반 18번 정민찬"
      ],
      "metadata": {
        "id": "6WiPFKBH6rWL"
      }
    },
    {
      "cell_type": "code",
      "execution_count": 24,
      "metadata": {
        "colab": {
          "base_uri": "https://localhost:8080/"
        },
        "id": "HJ2YkmEt6SQO",
        "outputId": "23a95cce-7aa2-43f0-b284-efe9f65007b7"
      },
      "outputs": [
        {
          "output_type": "stream",
          "name": "stdout",
          "text": [
            "첫번째 숫자를 키보드로 입력받아 저장하는 수 ==>10\n",
            "두번쨰 숫자를 키보드로 입력받아 저장하는 수==>20\n",
            "10 + 20 = 30\n",
            "10 - 20 = -10\n",
            "10 * 20 = 200\n",
            "10 / 20 = 10\n",
            "10 % 20 = 10\n"
          ]
        }
      ],
      "source": [
        "num1 = int(input(\"첫번째 숫자를 키보드로 입력받아 저장하는 수 ==>\"))\n",
        "num2 = int(input(\"두번쨰 숫자를 키보드로 입력받아 저장하는 수==>\"))\n",
        "\n",
        "result1=num1 + num2\n",
        "result2=num1 - num2\n",
        "result3=num1 * num2\n",
        "result4=num1 / num2\n",
        "result4=num1 % num2\n",
        "\n",
        "print(num1,\"+\", num2,\"=\", result1)\n",
        "print(num1,\"-\", num2,\"=\", result2)\n",
        "print(num1,\"*\", num2,\"=\", result3)\n",
        "print(num1,\"/\", num2,\"=\", result4)\n",
        "print(num1,\"%\", num2,\"=\", result4)"
      ]
    }
  ]
}