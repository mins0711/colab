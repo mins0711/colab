{
  "nbformat": 4,
  "nbformat_minor": 0,
  "metadata": {
    "colab": {
      "name": "Lession3.ipynb의 사본",
      "provenance": [],
      "collapsed_sections": [],
      "authorship_tag": "ABX9TyPruYh9QmG+IrFPwLhswEmy",
      "include_colab_link": true
    },
    "kernelspec": {
      "name": "python3",
      "display_name": "Python 3"
    },
    "language_info": {
      "name": "python"
    }
  },
  "cells": [
    {
      "cell_type": "markdown",
      "metadata": {
        "id": "view-in-github",
        "colab_type": "text"
      },
      "source": [
        "<a href=\"https://colab.research.google.com/github/mins0711/colab/blob/main/Lession3_ipynb%EC%9D%98_%EC%82%AC%EB%B3%B8.ipynb\" target=\"_parent\"><img src=\"https://colab.research.google.com/assets/colab-badge.svg\" alt=\"Open In Colab\"/></a>"
      ]
    },
    {
      "cell_type": "code",
      "execution_count": null,
      "metadata": {
        "id": "FYqbvXxu5mCH"
      },
      "outputs": [],
      "source": [
        ""
      ]
    },
    {
      "cell_type": "markdown",
      "source": [
        "나눠지는 수 ==> 25\n",
        "나누는 수 ==> 10\n",
        "25 // 10 = 2\n",
        "25 % 10 = 5"
      ],
      "metadata": {
        "id": "AsiEhzNm6L9W"
      }
    },
    {
      "cell_type": "code",
      "source": [
        "num = int(input(\"정수를 입력 ==>\"))\n",
        "it num1 == 0\n",
        "  print(num, \"은(는) 짝수입니다\")\n",
        "  print(\"ok\")\n",
        "else\n",
        "  print(num, \"은(는) 홀수 입니다\")"
      ],
      "metadata": {
        "colab": {
          "base_uri": "https://localhost:8080/",
          "height": 137
        },
        "id": "BslH2YvN6gJ1",
        "outputId": "c51618d5-154e-4dce-c7aa-e207533f6207"
      },
      "execution_count": null,
      "outputs": [
        {
          "output_type": "error",
          "ename": "SyntaxError",
          "evalue": "ignored",
          "traceback": [
            "\u001b[0;36m  File \u001b[0;32m\"<ipython-input-3-efb227f25687>\"\u001b[0;36m, line \u001b[0;32m2\u001b[0m\n\u001b[0;31m    it num1 == 0\u001b[0m\n\u001b[0m          ^\u001b[0m\n\u001b[0;31mSyntaxError\u001b[0m\u001b[0;31m:\u001b[0m invalid syntax\n"
          ]
        }
      ]
    },
    {
      "cell_type": "markdown",
      "source": [
        "소스코드"
      ],
      "metadata": {
        "id": "HnRJ1G_49QBN"
      }
    },
    {
      "cell_type": "code",
      "source": [
        "pound = int(input(\"파운드(lb)를 입력하세요\"))\n",
        "kg = pound * 0.453592\n",
        "print(pound, \"파운드(lb)는\" , round(kg,5) , \"킬로그램(kg)입니다\")\n",
        "\n",
        "kg = int(input(\"킬로그램(kg)을 입력하세요 : \"))\n",
        "pound = kg * 2.204623\n",
        "print(kg, \"킬로그램(kg)은\" , round(pound,5) , \"파운드(lb))입니다\")"
      ],
      "metadata": {
        "colab": {
          "base_uri": "https://localhost:8080/"
        },
        "id": "Ohg7Ck-u7p39",
        "outputId": "9c3961de-df9b-475a-ac57-e8932e355846"
      },
      "execution_count": null,
      "outputs": [
        {
          "output_type": "stream",
          "name": "stdout",
          "text": [
            "파운드(lb)를 입력하세요2\n",
            "2 파운드(lb)는 0.90718 킬로그램(kg)입니다\n",
            "킬로그램(kg)을 입력하세요 : 6\n",
            "6 킬로그램(kg)은 13.22774 파운드(lb))입니다\n"
          ]
        }
      ]
    },
    {
      "cell_type": "markdown",
      "source": [
        "bmi 계산기"
      ],
      "metadata": {
        "id": "B2qp011D-QpM"
      }
    },
    {
      "cell_type": "code",
      "source": [
        "weight = float(input(\"몸무게를 입력 ==>\"))\n",
        "height = float(input(\"키(신장)을 입력(cm)\"))\n",
        "height = height / 100\n",
        "bmi = round(weight / (height * height),1)\n",
        "\n",
        "print(\"당신의 bmi : \",bmi)"
      ],
      "metadata": {
        "colab": {
          "base_uri": "https://localhost:8080/"
        },
        "id": "raVSLI309dgt",
        "outputId": "973c5b18-1668-46ec-88e6-c5722d5f7a41"
      },
      "execution_count": null,
      "outputs": [
        {
          "output_type": "stream",
          "name": "stdout",
          "text": [
            "몸무게를 입력 ==>80\n",
            "키(신장)을 입력(cm)185\n",
            "당신의 bmi :  23.4\n"
          ]
        }
      ]
    },
    {
      "cell_type": "markdown",
      "source": [
        "편의점 하루 매충 계산"
      ],
      "metadata": {
        "id": "O9bBmSkgAyIM"
      }
    },
    {
      "cell_type": "code",
      "source": [
        "total = 0\n",
        "\n",
        "#구입한 물건\n",
        "total -= 900 * 10 #삼각김밥 10개\n",
        "total -= 3500 * 5 #도시락 5개\n",
        "\n",
        "#판매한 물품\n",
        "total += 1800 * 2 #바나나맛 우유\n",
        "total += 4000 * 4 #도시락 4개\n",
        "total += 1500 #콜라 1개\n",
        "total += 2000 * 4 #새우깡 4개\n",
        "total += 1800 * 5 #캔커피 5개\n",
        "\n",
        "print(\"오늘 총 매출액은 \",total, \"입니다\")"
      ],
      "metadata": {
        "colab": {
          "base_uri": "https://localhost:8080/"
        },
        "id": "UqnScQzQAxns",
        "outputId": "27d6727e-05a0-4227-aa19-2d16f1c30225"
      },
      "execution_count": null,
      "outputs": [
        {
          "output_type": "stream",
          "name": "stdout",
          "text": [
            "오늘 총 매출액은  11600 입니다\n"
          ]
        }
      ]
    },
    {
      "cell_type": "markdown",
      "source": [
        "비교 연산자의 활용"
      ],
      "metadata": {
        "id": "zFuAxO_eE-JZ"
      }
    },
    {
      "cell_type": "code",
      "source": [
        "score = int(input(\"필기 시험점수를 입력하세요 ==>\"))\n",
        "print(score >= 70)"
      ],
      "metadata": {
        "colab": {
          "base_uri": "https://localhost:8080/"
        },
        "id": "TRmUy6tkE6r7",
        "outputId": "9daf1650-9751-4f85-a375-3834134df75d"
      },
      "execution_count": null,
      "outputs": [
        {
          "output_type": "stream",
          "name": "stdout",
          "text": [
            "필기 시험점수를 입력하세요 ==>80\n",
            "True\n"
          ]
        }
      ]
    },
    {
      "cell_type": "code",
      "source": [
        "python = 3\n",
        "mobile = 2\n",
        "excel = 1\n",
        "\n",
        "A = 4.5\n",
        "A0 = 4.0\n",
        "B = 3.5\n",
        "\n",
        "avg = ((python * B) + (mobile * A0) + (excel * A)) / (python + mobile +excel)\n",
        "print(\"평균 학점 : \", avg)\n"
      ],
      "metadata": {
        "colab": {
          "base_uri": "https://localhost:8080/"
        },
        "id": "ypzhEIX3G8MZ",
        "outputId": "2a9f616f-337d-47b4-ae47-69e61bc0a5d3"
      },
      "execution_count": null,
      "outputs": [
        {
          "output_type": "stream",
          "name": "stdout",
          "text": [
            "평균 학점 :  3.8333333333333335\n"
          ]
        }
      ]
    },
    {
      "cell_type": "code",
      "source": [
        "ipip3 instail ColabTurtle\n",
        "import ColabTurtle Turtle as Turtle\n",
        "\n",
        "Turtle initalizeTurtle\n",
        "while ture\n",
        "  angle = int (input(\"거북이의 회전 각도\"))\n",
        "  if angle = 0\n",
        "    break\n",
        "  distance = int(input(\"거북이의 이동거리\"))\n",
        "\n",
        "  Turtle left(angle)\n",
        "  Turtle forward (distance)\n",
        "#print(angle , distance)"
      ],
      "metadata": {
        "colab": {
          "base_uri": "https://localhost:8080/",
          "height": 137
        },
        "id": "LANOl92UISlg",
        "outputId": "9197c928-ebdb-436e-958a-ff98af3ff545"
      },
      "execution_count": null,
      "outputs": [
        {
          "output_type": "error",
          "ename": "SyntaxError",
          "evalue": "ignored",
          "traceback": [
            "\u001b[0;36m  File \u001b[0;32m\"<ipython-input-18-28ed4040b93f>\"\u001b[0;36m, line \u001b[0;32m1\u001b[0m\n\u001b[0;31m    ipip3 instail ColabTurtle\u001b[0m\n\u001b[0m                ^\u001b[0m\n\u001b[0;31mSyntaxError\u001b[0m\u001b[0;31m:\u001b[0m invalid syntax\n"
          ]
        }
      ]
    }
  ]
}