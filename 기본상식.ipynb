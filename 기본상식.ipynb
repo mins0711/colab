{
  "nbformat": 4,
  "nbformat_minor": 0,
  "metadata": {
    "colab": {
      "name": "기본상식.ipynb",
      "provenance": [],
      "collapsed_sections": [],
      "authorship_tag": "ABX9TyM2sdLxc3fAoTiDTMydkr5n",
      "include_colab_link": true
    },
    "kernelspec": {
      "name": "python3",
      "display_name": "Python 3"
    },
    "language_info": {
      "name": "python"
    }
  },
  "cells": [
    {
      "cell_type": "markdown",
      "metadata": {
        "id": "view-in-github",
        "colab_type": "text"
      },
      "source": [
        "<a href=\"https://colab.research.google.com/github/mins0711/colab/blob/main/%EA%B8%B0%EB%B3%B8%EC%83%81%EC%8B%9D.ipynb\" target=\"_parent\"><img src=\"https://colab.research.google.com/assets/colab-badge.svg\" alt=\"Open In Colab\"/></a>"
      ]
    },
    {
      "cell_type": "markdown",
      "source": [
        "#파이썬 시작하기\n",
        "\n",
        "\n",
        "+ 프로그래밍 언어\n",
        " * 컴퓨터와 스마트폰에 들어있는 많은 소프트웨어 유튜브,메시지,전화,카카오톡 등\n",
        " +프로그램,소프트웨어(software),애플리케이션(Application),앱(App),응용 프로그램 모두 동일한 용어입니다\n",
        "\n",
        "+ 프로그래밍(Programming)\n",
        " * 프로그램을 만드는 작업\n",
        "+ 프로그래밍 언어(programmer)\n",
        " * 사람이 이해하는 말을 언어라고 부르듯이 컴퓨터가 이해하는 언어의 의미\n",
        "+ 프로그래머\n",
        " * 프로그래밍 언어를 사룡하여 소프트웨어나 앱을 만드는 작업을 가진 사람을 의미\n",
        "\n",
        "\n",
        " 예제\n"
      ],
      "metadata": {
        "id": "zkwCJjjDGlUE"
      }
    },
    {
      "cell_type": "code",
      "execution_count": 1,
      "metadata": {
        "colab": {
          "base_uri": "https://localhost:8080/"
        },
        "id": "Po-1Bk9gGj80",
        "outputId": "eef505f8-ac40-4980-b113-f916074b6a80"
      },
      "outputs": [
        {
          "output_type": "stream",
          "name": "stdout",
          "text": [
            "400\n"
          ]
        }
      ],
      "source": [
        "print(100+300)"
      ]
    },
    {
      "cell_type": "code",
      "source": [
        "print(200/3*4)"
      ],
      "metadata": {
        "colab": {
          "base_uri": "https://localhost:8080/"
        },
        "id": "cDORYRrWPXWq",
        "outputId": "456e9890-8329-412b-ceb5-d86c4db3c7b1"
      },
      "execution_count": 3,
      "outputs": [
        {
          "output_type": "stream",
          "name": "stdout",
          "text": [
            "266.6666666666667\n"
          ]
        }
      ]
    },
    {
      "cell_type": "code",
      "source": [
        "print(\"난생 처음 파이썬을\")\n",
        "print(\"열심히 공부 중입니다~!\")\n",
        "print(\"이젠 저도 파이썬 프로그래머입니다!\")"
      ],
      "metadata": {
        "colab": {
          "base_uri": "https://localhost:8080/"
        },
        "id": "oKlUpzHyPvui",
        "outputId": "2852e146-e383-4868-c33b-2eb70d9312fa"
      },
      "execution_count": 4,
      "outputs": [
        {
          "output_type": "stream",
          "name": "stdout",
          "text": [
            "난생 처음 파이썬을\n",
            "열심히 공부 중입니다~!\n",
            "이젠 저도 파이썬 프로그래머입니다!\n"
          ]
        }
      ]
    }
  ]
}