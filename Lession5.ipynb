{
  "nbformat": 4,
  "nbformat_minor": 0,
  "metadata": {
    "colab": {
      "name": "Lession5.ipynb",
      "provenance": [],
      "collapsed_sections": [],
      "authorship_tag": "ABX9TyOL4tNisFyTVoysQ+6/1P7S",
      "include_colab_link": true
    },
    "kernelspec": {
      "name": "python3",
      "display_name": "Python 3"
    },
    "language_info": {
      "name": "python"
    }
  },
  "cells": [
    {
      "cell_type": "markdown",
      "metadata": {
        "id": "view-in-github",
        "colab_type": "text"
      },
      "source": [
        "<a href=\"https://colab.research.google.com/github/mins0711/colab/blob/main/Lession5.ipynb\" target=\"_parent\"><img src=\"https://colab.research.google.com/assets/colab-badge.svg\" alt=\"Open In Colab\"/></a>"
      ]
    },
    {
      "cell_type": "code",
      "execution_count": null,
      "metadata": {
        "id": "Mvu4m2eiQ1B7"
      },
      "outputs": [],
      "source": [
        "num = int(input(\"정수를 입렵 :\"))\n",
        "\n",
        "if (num % 2) == 0 :\n",
        "    print(num,\"짝수입니다.\")\n",
        "  \n",
        "if (num % 2) == 1 :\n",
        "    print(num,\"홀수입니다.\")"
      ]
    }
  ]
}