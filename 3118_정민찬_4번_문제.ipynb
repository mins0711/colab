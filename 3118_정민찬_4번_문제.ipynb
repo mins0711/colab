{
  "nbformat": 4,
  "nbformat_minor": 0,
  "metadata": {
    "colab": {
      "provenance": [],
      "collapsed_sections": [],
      "authorship_tag": "ABX9TyPVcCeGhl33EQtkOuxFbYJB",
      "include_colab_link": true
    },
    "kernelspec": {
      "name": "python3",
      "display_name": "Python 3"
    },
    "language_info": {
      "name": "python"
    }
  },
  "cells": [
    {
      "cell_type": "markdown",
      "metadata": {
        "id": "view-in-github",
        "colab_type": "text"
      },
      "source": [
        "<a href=\"https://colab.research.google.com/github/mins0711/colab/blob/main/3118_%EC%A0%95%EB%AF%BC%EC%B0%AC_4%EB%B2%88_%EB%AC%B8%EC%A0%9C.ipynb\" target=\"_parent\"><img src=\"https://colab.research.google.com/assets/colab-badge.svg\" alt=\"Open In Colab\"/></a>"
      ]
    },
    {
      "cell_type": "code",
      "execution_count": 6,
      "metadata": {
        "colab": {
          "base_uri": "https://localhost:8080/"
        },
        "id": "N-ZjTJcP8bWY",
        "outputId": "b70b4658-17d4-4c67-ec3d-8d3e65bfde82"
      },
      "outputs": [
        {
          "output_type": "stream",
          "name": "stdout",
          "text": [
            "파운드(lb)를 입력하세요15\n",
            "15 파운드(lb)는 6.80388 킬로그램(kg)입니다\n",
            "킬로그램(kg)을 입력하세요 : 15\n",
            "15 킬로그램(kg)은 33.06935 파운드(lb)입니다\n"
          ]
        }
      ],
      "source": [
        "pound = int(input(\"파운드(lb)를 입력하세요\"))\n",
        "kg = pound * 0.453592\n",
        "print(pound, \"파운드(lb)는\" , round(kg,5) , \"킬로그램(kg)입니다\")\n",
        "\n",
        "kg = int(input(\"킬로그램(kg)을 입력하세요 : \"))\n",
        "pound = kg * 2.204623\n",
        "print(kg, \"킬로그램(kg)은\" , round(pound,5) , \"파운드(lb)입니다\")"
      ]
    }
  ]
}