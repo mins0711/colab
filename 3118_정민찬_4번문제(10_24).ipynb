{
  "nbformat": 4,
  "nbformat_minor": 0,
  "metadata": {
    "colab": {
      "provenance": [],
      "collapsed_sections": [],
      "authorship_tag": "ABX9TyOB93UuNPnzo6lR+Qd/M8aV",
      "include_colab_link": true
    },
    "kernelspec": {
      "name": "python3",
      "display_name": "Python 3"
    },
    "language_info": {
      "name": "python"
    }
  },
  "cells": [
    {
      "cell_type": "markdown",
      "metadata": {
        "id": "view-in-github",
        "colab_type": "text"
      },
      "source": [
        "<a href=\"https://colab.research.google.com/github/mins0711/colab/blob/main/3118_%EC%A0%95%EB%AF%BC%EC%B0%AC_4%EB%B2%88%EB%AC%B8%EC%A0%9C(10_24).ipynb\" target=\"_parent\"><img src=\"https://colab.research.google.com/assets/colab-badge.svg\" alt=\"Open In Colab\"/></a>"
      ]
    },
    {
      "cell_type": "code",
      "execution_count": 2,
      "metadata": {
        "colab": {
          "base_uri": "https://localhost:8080/"
        },
        "id": "FjsQx0a9dZiB",
        "outputId": "95a67e11-ebb4-4278-dde2-a2f68e9ad9a6"
      },
      "outputs": [
        {
          "output_type": "stream",
          "name": "stdout",
          "text": [
            "게임 1 회:컴퓨터가 생각한 숫자는?5\n",
            "아까워요..... 2 였는데? 다시 한번 해볼래?\n",
            "게임 2 회:컴퓨터가 생각한 숫자는?2\n",
            "아까워요..... 4 였는데? 다시 한번 해볼래?\n",
            "게임 3 회:컴퓨터가 생각한 숫자는?5\n",
            "아까워요..... 1 였는데? 다시 한번 해볼래?\n",
            "게임 4 회:컴퓨터가 생각한 숫자는?7\n",
            "아까워요..... 1 였는데? 다시 한번 해볼래?\n",
            "게임 5 회:컴퓨터가 생각한 숫자는?8\n",
            "아까워요..... 4 였는데? 다시 한번 해볼래?\n",
            "게임 6 회:컴퓨터가 생각한 숫자는?4\n",
            "맞췄네요.축하합니다!\n",
            "the end\n"
          ]
        }
      ],
      "source": [
        "import random\n",
        "\n",
        "computer, user = 0,0\n",
        "\n",
        "for i in range(1,11) :\n",
        "  computer =random.randint(1,5)\n",
        "  print(\"게임\",i,\"회:\",end='')\n",
        "  user = int(input(\"컴퓨터가 생각한 숫자는?\"))\n",
        "\n",
        "  if computer == user :\n",
        "    print(\"맞췄네요.축하합니다!\")\n",
        "    break\n",
        "  else :\n",
        "    print(\"아까워요.....\",computer,\"였는데? 다시 한번 해볼래?\")\n",
        "    continue\n",
        "print(\"the end\")"
      ]
    }
  ]
}