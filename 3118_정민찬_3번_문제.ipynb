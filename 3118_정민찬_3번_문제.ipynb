{
  "nbformat": 4,
  "nbformat_minor": 0,
  "metadata": {
    "colab": {
      "provenance": [],
      "authorship_tag": "ABX9TyM1VDV/oz9yLpOUC+SEoYSb",
      "include_colab_link": true
    },
    "kernelspec": {
      "name": "python3",
      "display_name": "Python 3"
    },
    "language_info": {
      "name": "python"
    }
  },
  "cells": [
    {
      "cell_type": "markdown",
      "metadata": {
        "id": "view-in-github",
        "colab_type": "text"
      },
      "source": [
        "<a href=\"https://colab.research.google.com/github/mins0711/colab/blob/main/3118_%EC%A0%95%EB%AF%BC%EC%B0%AC_3%EB%B2%88_%EB%AC%B8%EC%A0%9C.ipynb\" target=\"_parent\"><img src=\"https://colab.research.google.com/assets/colab-badge.svg\" alt=\"Open In Colab\"/></a>"
      ]
    },
    {
      "cell_type": "code",
      "execution_count": 5,
      "metadata": {
        "colab": {
          "base_uri": "https://localhost:8080/"
        },
        "id": "i_cFXbLy6dJM",
        "outputId": "fab511ec-30e2-42a5-95a1-6a12e6561203"
      },
      "outputs": [
        {
          "output_type": "stream",
          "name": "stdout",
          "text": [
            "첫 번쨰 문자열1234\n",
            "두 번쨰 문자열12345678\n",
            "길이의 차이 -4\n"
          ]
        }
      ],
      "source": [
        "a=input(\"첫 번쨰 문자열\")\n",
        "b=input(\"두 번쨰 문자열\")\n",
        "c = len(a)\n",
        "d=len(b)\n",
        "print(\"길이의 차이\",c-d)"
      ]
    }
  ]
}