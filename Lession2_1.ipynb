{
  "nbformat": 4,
  "nbformat_minor": 0,
  "metadata": {
    "colab": {
      "name": "Lession2-1.ipynb",
      "provenance": [],
      "collapsed_sections": [],
      "authorship_tag": "ABX9TyN5tGyQK8Jjhj/18ktTud1X",
      "include_colab_link": true
    },
    "kernelspec": {
      "name": "python3",
      "display_name": "Python 3"
    },
    "language_info": {
      "name": "python"
    }
  },
  "cells": [
    {
      "cell_type": "markdown",
      "metadata": {
        "id": "view-in-github",
        "colab_type": "text"
      },
      "source": [
        "<a href=\"https://colab.research.google.com/github/mins0711/colab/blob/main/Lession2_1.ipynb\" target=\"_parent\"><img src=\"https://colab.research.google.com/assets/colab-badge.svg\" alt=\"Open In Colab\"/></a>"
      ]
    },
    {
      "cell_type": "code",
      "execution_count": 1,
      "metadata": {
        "colab": {
          "base_uri": "https://localhost:8080/"
        },
        "id": "n_D9egbxkpPg",
        "outputId": "f0d0746e-8b42-46d5-f6c1-9383ba9afbc3"
      },
      "outputs": [
        {
          "output_type": "stream",
          "name": "stdout",
          "text": [
            "100 + 200 = 300\n"
          ]
        }
      ],
      "source": [
        "a=100\n",
        "b=200\n",
        "c = a + b\n",
        "\n",
        "print(a, \"+\", b, \"=\", c)"
      ]
    },
    {
      "cell_type": "code",
      "source": [
        "num1=500\n",
        "num2=200\n",
        "result = num1 - num2\n",
        "\n",
        "print(num1, \"-\", num2, \"=\", result)"
      ],
      "metadata": {
        "colab": {
          "base_uri": "https://localhost:8080/"
        },
        "id": "JhJQ0CjmmALZ",
        "outputId": "bb5b6bc9-4c84-4fae-8c3a-e873a613f048"
      },
      "execution_count": 4,
      "outputs": [
        {
          "output_type": "stream",
          "name": "stdout",
          "text": [
            "500 - 200 = 300\n"
          ]
        }
      ]
    },
    {
      "cell_type": "code",
      "source": [
        "num1=8\n",
        "num2=17\n",
        "result = num1 * num2\n",
        "\n",
        "print(num1, \"*\", num2 ,\"=\", result)"
      ],
      "metadata": {
        "colab": {
          "base_uri": "https://localhost:8080/"
        },
        "id": "adPj6mJ6mSCA",
        "outputId": "c736b8c8-7eb2-44a1-cb6c-29241adbb167"
      },
      "execution_count": 5,
      "outputs": [
        {
          "output_type": "stream",
          "name": "stdout",
          "text": [
            "8 * 17 = 136\n"
          ]
        }
      ]
    },
    {
      "cell_type": "code",
      "source": [
        "num1=8\n",
        "num2=17\n",
        "result=num1 / num2\n",
        "\n",
        "print(num1, \"/\", num2, \"=\", result)"
      ],
      "metadata": {
        "colab": {
          "base_uri": "https://localhost:8080/"
        },
        "id": "pqnXylKVmkDI",
        "outputId": "188febf9-908a-41e7-8dd5-f5cfaa373528"
      },
      "execution_count": 6,
      "outputs": [
        {
          "output_type": "stream",
          "name": "stdout",
          "text": [
            "8 / 17 = 0.47058823529411764\n"
          ]
        }
      ]
    },
    {
      "cell_type": "code",
      "source": [
        "num1,num2 = 4,2\n",
        "result1 = num1 % num2\n",
        "print(num1, \"%\", num2, \"=\", result)"
      ],
      "metadata": {
        "colab": {
          "base_uri": "https://localhost:8080/"
        },
        "id": "6R6SZ5BCm7S5",
        "outputId": "f8a4170a-5abd-4377-8543-4e60b3d363e9"
      },
      "execution_count": 7,
      "outputs": [
        {
          "output_type": "stream",
          "name": "stdout",
          "text": [
            "4 % 2 = 0.47058823529411764\n"
          ]
        }
      ]
    },
    {
      "cell_type": "code",
      "source": [
        "num1,num2=4,2\n",
        "result=num1//num2\n",
        "print(num1,\"//\", num2, \"=\",result)"
      ],
      "metadata": {
        "colab": {
          "base_uri": "https://localhost:8080/"
        },
        "id": "DBgy_mnLnbEI",
        "outputId": "142d0544-580e-409b-c079-0e46e7943e93"
      },
      "execution_count": 8,
      "outputs": [
        {
          "output_type": "stream",
          "name": "stdout",
          "text": [
            "4 // 2 = 2\n"
          ]
        }
      ]
    },
    {
      "cell_type": "markdown",
      "source": [
        "안산공고+컴퓨터과=안산공고컴퓨터과"
      ],
      "metadata": {
        "id": "9i60s1C8o1GJ"
      }
    },
    {
      "cell_type": "code",
      "source": [
        "str1= \"안산공고\"\n",
        "str2=\"컴퓨터과\"\n",
        "result=str1+str2\n",
        "\n",
        "print(str1, \"+\",str2, \"=\", result)"
      ],
      "metadata": {
        "colab": {
          "base_uri": "https://localhost:8080/"
        },
        "id": "nRAKQjFxocgJ",
        "outputId": "e2d34f3c-7e8f-4bf2-842a-e371c21132b6"
      },
      "execution_count": 11,
      "outputs": [
        {
          "output_type": "stream",
          "name": "stdout",
          "text": [
            "안산공고 + 컴퓨터과 = 안산공고컴퓨터과\n"
          ]
        }
      ]
    },
    {
      "cell_type": "markdown",
      "source": [
        "2장 형성뺴기 첫번쨰"
      ],
      "metadata": {
        "id": "JTsILXsSpyz4"
      }
    },
    {
      "cell_type": "code",
      "source": [
        "num1=100\n",
        "num2=200\n",
        "result1=num1+num2\n",
        "result2=num1-num2\n",
        "result3=num1*num2\n",
        "result4=num1/num2\n",
        "\n",
        "print(num1,\"+\", num2,\"=\", result1)\n",
        "print(num1,\"-\", num2,\"=\", result2)\n",
        "print(num1,\"*\", num2,\"=\", result3)\n",
        "print(num1,\"/\", num2,\"=\", result4)"
      ],
      "metadata": {
        "colab": {
          "base_uri": "https://localhost:8080/"
        },
        "id": "k63GYf-kpTtS",
        "outputId": "df2e2459-31d6-4d29-c894-3748e8c4e691"
      },
      "execution_count": 14,
      "outputs": [
        {
          "output_type": "stream",
          "name": "stdout",
          "text": [
            "100 + 200 = 300\n",
            "100 - 200 = -100\n",
            "100 * 200 = 20000\n",
            "100 / 200 = 0.5\n"
          ]
        }
      ]
    },
    {
      "cell_type": "markdown",
      "source": [
        "2장 입력받는 값(input)"
      ],
      "metadata": {
        "id": "ggLTDJMpr9Vy"
      }
    },
    {
      "cell_type": "code",
      "source": [
        "num1=int(input(\"첫번째 숫자 입력 ==>\"))\n",
        "num2=int(input(\"두번째 숫자 입력 ==>\"))\n",
        "result=num1+num2\n",
        "\n",
        "print(num1, \"+\", num2, \"=\", result)"
      ],
      "metadata": {
        "colab": {
          "base_uri": "https://localhost:8080/"
        },
        "id": "-ufm1eztqkjL",
        "outputId": "cdb9b231-74a7-446d-8a84-d5717692f427"
      },
      "execution_count": 18,
      "outputs": [
        {
          "output_type": "stream",
          "name": "stdout",
          "text": [
            "첫번째 숫자 입력 ==>100\n",
            "두번째 숫자 입력 ==>200\n",
            "100 + 200 = 300\n"
          ]
        }
      ]
    },
    {
      "cell_type": "markdown",
      "source": [
        "이름과 전화번호"
      ],
      "metadata": {
        "id": "nAhrD1dyuvFy"
      }
    },
    {
      "cell_type": "code",
      "source": [
        "num1=input(\"이름이 무엇인가요?==>\")\n",
        "num2=input(\"전화번호를 입력해주세요==>\")\n",
        "result=num1+num2\n",
        "\n",
        "print(num1 ,\"+\", num2, \"=\", result)\n"
      ],
      "metadata": {
        "colab": {
          "base_uri": "https://localhost:8080/"
        },
        "id": "GuzWcYD-tmNy",
        "outputId": "e938222b-85cc-4504-d184-c89d84708b32"
      },
      "execution_count": 25,
      "outputs": [
        {
          "output_type": "stream",
          "name": "stdout",
          "text": [
            "이름이 무엇인가요?==>남궁혁\n",
            "전화번호를 입력해주세요==>010-1234-1234\n",
            "남궁혁 + 010-1234-1234 = 남궁혁010-1234-1234\n"
          ]
        }
      ]
    },
    {
      "cell_type": "markdown",
      "source": [
        "소스코드"
      ],
      "metadata": {
        "id": "RBoypfxJxl_y"
      }
    },
    {
      "cell_type": "code",
      "source": [
        "print(\"##택배를 보내기 위한 정보를 입력하세요.##\")\n",
        "personName = input(\"받는사람 :\")\n",
        "personAddr = input(\"주소 :\")\n",
        "wegiht = int(input(\"무게(g) :\"))\n",
        "\n",
        "print(\"**받는 사람 ==>\",personName)\n",
        "print(\"**주소 ==>\",personAddr)\n",
        "\n",
        "print(\"**무게(g) ==>\",wegiht)"
      ],
      "metadata": {
        "colab": {
          "base_uri": "https://localhost:8080/"
        },
        "id": "X-C_OGKpvNI6",
        "outputId": "7c4296a6-86a6-40af-e124-09a7287b9dfe"
      },
      "execution_count": 27,
      "outputs": [
        {
          "output_type": "stream",
          "name": "stdout",
          "text": [
            "##택배를 보내기 위한 정보를 입력하세요.##\n",
            "받는사람 :남궁혁\n",
            "주소 :서울\n",
            "무게(g) :5\n",
            "**받는 사람 ==> 남궁혁\n",
            "**주소 ==> 서울\n",
            "**무게(g) ==> 5\n"
          ]
        }
      ]
    },
    {
      "cell_type": "code",
      "source": [
        "#!pip3 install ColabTurtle\n",
        "import ColabTurtle.Turtle as turtle\n",
        "\n",
        "turtle.initializeTurtle(1)\n",
        "turtle.forward(50)\n",
        "turtle.left(90)\n",
        "turtle.forward(90)"
      ],
      "metadata": {
        "colab": {
          "base_uri": "https://localhost:8080/",
          "height": 520
        },
        "id": "YYJOkFuLwu0c",
        "outputId": "fb266e00-51f4-4717-9af6-3a383527f6ae"
      },
      "execution_count": 33,
      "outputs": [
        {
          "output_type": "display_data",
          "data": {
            "text/plain": [
              "<IPython.core.display.HTML object>"
            ],
            "text/html": [
              "\n",
              "      <svg width=\"800\" height=\"500\">\n",
              "        <rect width=\"100%\" height=\"100%\" fill=\"black\"/>\n",
              "        <line x1=\"400\" y1=\"250\" x2=\"400.0\" y2=\"200.0\" stroke-linecap=\"round\" style=\"stroke:white;stroke-width:4\"/><line x1=\"400.0\" y1=\"200.0\" x2=\"310.0\" y2=\"200.0\" stroke-linecap=\"round\" style=\"stroke:white;stroke-width:4\"/>\n",
              "        <g visibility=visible transform=\"rotate(270,310.0,200.0) translate(292.0, 182.0)\">\n",
              "<path style=\" stroke:none;fill-rule:evenodd;fill:white;fill-opacity:1;\" d=\"M 18.214844 0.632812 C 16.109375 1.800781 15.011719 4.074219 15.074219 7.132812 L 15.085938 7.652344 L 14.785156 7.496094 C 13.476562 6.824219 11.957031 6.671875 10.40625 7.066406 C 8.46875 7.550781 6.515625 9.15625 4.394531 11.992188 C 3.0625 13.777344 2.679688 14.636719 3.042969 15.027344 L 3.15625 15.152344 L 3.519531 15.152344 C 4.238281 15.152344 4.828125 14.886719 8.1875 13.039062 C 9.386719 12.378906 10.371094 11.839844 10.378906 11.839844 C 10.386719 11.839844 10.355469 11.929688 10.304688 12.035156 C 9.832031 13.09375 9.257812 14.820312 8.96875 16.078125 C 7.914062 20.652344 8.617188 24.53125 11.070312 27.660156 C 11.351562 28.015625 11.363281 27.914062 10.972656 28.382812 C 8.925781 30.84375 7.945312 33.28125 8.238281 35.1875 C 8.289062 35.527344 8.28125 35.523438 8.917969 35.523438 C 10.941406 35.523438 13.074219 34.207031 15.136719 31.6875 C 15.359375 31.417969 15.328125 31.425781 15.5625 31.574219 C 16.292969 32.042969 18.023438 32.964844 18.175781 32.964844 C 18.335938 32.964844 19.941406 32.210938 20.828125 31.71875 C 20.996094 31.625 21.136719 31.554688 21.136719 31.558594 C 21.203125 31.664062 21.898438 32.414062 22.222656 32.730469 C 23.835938 34.300781 25.5625 35.132812 27.582031 35.300781 C 27.90625 35.328125 27.9375 35.308594 28.007812 34.984375 C 28.382812 33.242188 27.625 30.925781 25.863281 28.425781 L 25.542969 27.96875 L 25.699219 27.785156 C 28.945312 23.960938 29.132812 18.699219 26.257812 11.96875 L 26.207031 11.84375 L 27.945312 12.703125 C 31.53125 14.476562 32.316406 14.800781 33.03125 14.800781 C 33.976562 14.800781 33.78125 13.9375 32.472656 12.292969 C 28.519531 7.355469 25.394531 5.925781 21.921875 7.472656 L 21.558594 7.636719 L 21.578125 7.542969 C 21.699219 6.992188 21.761719 5.742188 21.699219 5.164062 C 21.496094 3.296875 20.664062 1.964844 19.003906 0.855469 C 18.480469 0.503906 18.457031 0.5 18.214844 0.632812\"/>\n",
              "</g>\n",
              "      </svg>\n",
              "    "
            ]
          },
          "metadata": {}
        }
      ]
    },
    {
      "cell_type": "markdown",
      "source": [
        "괄호"
      ],
      "metadata": {
        "id": "9sDNXQID141E"
      }
    },
    {
      "cell_type": "code",
      "source": [
        "num1=int(input(\"숫자1 ==>\"))\n",
        "num2=int(input(\"숫자2 ==>\"))\n",
        "result1=num1 + num2\n",
        "result2=num1 - num2\n",
        "result3=num1 * num2\n",
        "result4=num1 / num2\n",
        "result5=num1 % num2\n",
        "result6=num1 ** num2\n",
        "\n",
        "\n",
        "print(num1,\"+\", num2,\"=\", result1)\n",
        "print(num1,\"-\", num2,\"=\", result2)\n",
        "print(num1,\"*\", num2,\"=\", result3)\n",
        "print(num1,\"/\", num2,\"=\", result4)\n",
        "print(num1,\"%\", num2,\"=\", result5)\n",
        "print(num1,\"**\", num2,\"=\", result6)"
      ],
      "metadata": {
        "colab": {
          "base_uri": "https://localhost:8080/"
        },
        "id": "nzKCGRX20Ped",
        "outputId": "1d6d27b9-3908-45c4-b17a-821c0cba0fc0"
      },
      "execution_count": 30,
      "outputs": [
        {
          "output_type": "stream",
          "name": "stdout",
          "text": [
            "숫자1 ==>1\n",
            "숫자2 ==>2\n",
            "1 + 2 = 3\n",
            "1 - 2 = -1\n",
            "1 * 2 = 2\n",
            "1 / 2 = 0.5\n",
            "1 % 2 = 1\n",
            "1 ** 2 = 1\n"
          ]
        }
      ]
    }
  ]
}