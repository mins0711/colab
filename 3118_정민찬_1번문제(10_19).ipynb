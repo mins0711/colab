{
  "nbformat": 4,
  "nbformat_minor": 0,
  "metadata": {
    "colab": {
      "provenance": [],
      "collapsed_sections": [],
      "authorship_tag": "ABX9TyOfm1avRgeWsztPcrSMnvA/",
      "include_colab_link": true
    },
    "kernelspec": {
      "name": "python3",
      "display_name": "Python 3"
    },
    "language_info": {
      "name": "python"
    }
  },
  "cells": [
    {
      "cell_type": "markdown",
      "metadata": {
        "id": "view-in-github",
        "colab_type": "text"
      },
      "source": [
        "<a href=\"https://colab.research.google.com/github/mins0711/colab/blob/main/3118_%EC%A0%95%EB%AF%BC%EC%B0%AC_1%EB%B2%88%EB%AC%B8%EC%A0%9C(10_19).ipynb\" target=\"_parent\"><img src=\"https://colab.research.google.com/assets/colab-badge.svg\" alt=\"Open In Colab\"/></a>"
      ]
    },
    {
      "cell_type": "code",
      "execution_count": 3,
      "metadata": {
        "id": "mMdRD8bg_igM",
        "colab": {
          "base_uri": "https://localhost:8080/"
        },
        "outputId": "2444d668-53e1-4331-c4f7-db306ab50ebf"
      },
      "outputs": [
        {
          "output_type": "stream",
          "name": "stdout",
          "text": [
            "숫자를 입력: 1773\n",
            "1773 홀수 입니다.\n"
          ]
        }
      ],
      "source": [
        "number = int(input(\"숫자를 입력: \"))\n",
        "\n",
        "#입력받은 수에 2를 나눈 나머지가 1이면 홀수\n",
        "if number%2 == 1:\n",
        "    print(number, \"홀수 입니다.\")\n",
        "else:\n",
        "    print(number, \"짝수 입니다.\")"
      ]
    }
  ]
}