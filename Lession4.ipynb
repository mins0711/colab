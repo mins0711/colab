{
  "nbformat": 4,
  "nbformat_minor": 0,
  "metadata": {
    "colab": {
      "name": "Lession4.ipynb",
      "provenance": [],
      "collapsed_sections": [],
      "authorship_tag": "ABX9TyOzva2PvB20ncGvkh02swMN",
      "include_colab_link": true
    },
    "kernelspec": {
      "name": "python3",
      "display_name": "Python 3"
    },
    "language_info": {
      "name": "python"
    }
  },
  "cells": [
    {
      "cell_type": "markdown",
      "metadata": {
        "id": "view-in-github",
        "colab_type": "text"
      },
      "source": [
        "<a href=\"https://colab.research.google.com/github/mins0711/colab/blob/main/Lession4.ipynb\" target=\"_parent\"><img src=\"https://colab.research.google.com/assets/colab-badge.svg\" alt=\"Open In Colab\"/></a>"
      ]
    },
    {
      "cell_type": "markdown",
      "source": [
        "줄바꿈"
      ],
      "metadata": {
        "id": "sWyadDrf6mui"
      }
    },
    {
      "cell_type": "code",
      "execution_count": null,
      "metadata": {
        "id": "HJRWpi6Kzch-"
      },
      "outputs": [],
      "source": [
        "print(\"/줄바꿈\\n,연습\")\n",
        "print(\"\\t탭키\\t연습\")\n",
        "print(\"어떤 글자를 \\\"강조\\\"하는 효과1\")\n",
        "print(\"어떤 글자를 \\'강조\\' 하는 효과2\")\n",
        "print(\"\\\\\\ 백슬래시 2개 출력\")"
      ]
    },
    {
      "cell_type": "code",
      "source": [
        "문자의 길이 차이"
      ],
      "metadata": {
        "id": "FYFPiUd86F7V"
      },
      "execution_count": null,
      "outputs": []
    },
    {
      "cell_type": "code",
      "source": [
        "fu = input(\"첫번째 ==>\")\n",
        "ck = input(\"두번쨰 ==>\")\n",
        "\n",
        "len1 = len(fu)\n",
        "len2 = len(ck)\n",
        "\n",
        "yes = len1 - len2\n",
        "\n",
        "print(\"두 번째열의 길이 차이는\", yes,\"입니다.\")"
      ],
      "metadata": {
        "colab": {
          "base_uri": "https://localhost:8080/"
        },
        "id": "GzPVJFWT42sL",
        "outputId": "370b1380-6916-4b66-cdb8-ea9e4b09dae3"
      },
      "execution_count": null,
      "outputs": [
        {
          "output_type": "stream",
          "name": "stdout",
          "text": [
            "첫번째 ==>난생처음\n",
            "두번쨰 ==>파이썬\n",
            "두 번째열의 길이 차이는 1 입니다.\n"
          ]
        }
      ]
    },
    {
      "cell_type": "code",
      "source": [
        "ok = \"트와이스\"\n",
        "print(\"원본 문자열 ==>\", ok)\n",
        "\n",
        "print(\"반대 문자열 ==>\", end='')\n",
        "print(ok[3], end = '')\n",
        "print(ok[2], end = '')\n",
        "print(ok[1], end = '')\n",
        "print(ok[0], end = '')"
      ],
      "metadata": {
        "colab": {
          "base_uri": "https://localhost:8080/"
        },
        "id": "of2Tb7Mk8j8D",
        "outputId": "e411ac5e-4704-4e6c-e39b-6fa0ef7335ec"
      },
      "execution_count": null,
      "outputs": [
        {
          "output_type": "stream",
          "name": "stdout",
          "text": [
            "원본 문자열 ==> 트와이스\n",
            "반대 문자열 ==>스이와트"
          ]
        }
      ]
    },
    {
      "cell_type": "code",
      "source": [
        "ipip3 instail ColabTurtle\n",
        "import ColabTurtle.turtle as turtle\n",
        "\n",
        "x=int(input(\"이동할 x의 위치 :\"))\n",
        "y=int(input(\"이동할 y의 위치 :\"))\n",
        "text=input(\"쓰고 싶은 글자 :\")\n",
        "turtle.penup()\n",
        "turtle.goto()\n",
        "turtle.write()"
      ],
      "metadata": {
        "id": "Iw-Q_n3GOORv"
      },
      "execution_count": null,
      "outputs": []
    }
  ]
}