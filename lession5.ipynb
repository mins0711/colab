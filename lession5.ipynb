{
  "nbformat": 4,
  "nbformat_minor": 0,
  "metadata": {
    "colab": {
      "name": "lession5.ipynb",
      "provenance": [],
      "collapsed_sections": [],
      "authorship_tag": "ABX9TyP5kvLoBRpEFNmxdl0G6aCG",
      "include_colab_link": true
    },
    "kernelspec": {
      "name": "python3",
      "display_name": "Python 3"
    },
    "language_info": {
      "name": "python"
    }
  },
  "cells": [
    {
      "cell_type": "markdown",
      "metadata": {
        "id": "view-in-github",
        "colab_type": "text"
      },
      "source": [
        "<a href=\"https://colab.research.google.com/github/mins0711/colab/blob/main/lession5.ipynb\" target=\"_parent\"><img src=\"https://colab.research.google.com/assets/colab-badge.svg\" alt=\"Open In Colab\"/></a>"
      ]
    },
    {
      "cell_type": "code",
      "execution_count": null,
      "metadata": {
        "id": "XJIiXTzCTDY-"
      },
      "outputs": [],
      "source": [
        "num = int(input(\"정수를 입력 :\"))\n",
        "if(num % 2) ==0 :\n",
        "  print(num, \"짝수입니다.\")\n",
        "else :\n",
        "  print(num, \"홀수입니다.\")"
      ]
    },
    {
      "cell_type": "markdown",
      "source": [
        "랜덤 함수 import random"
      ],
      "metadata": {
        "id": "nYdal5SuUiLr"
      }
    },
    {
      "cell_type": "code",
      "source": [
        "import random\n",
        "\n",
        "r = random.randint(1,45)\n",
        "print(r)"
      ],
      "metadata": {
        "colab": {
          "base_uri": "https://localhost:8080/"
        },
        "id": "u9zurmReUmop",
        "outputId": "fd2e55ff-f34b-488e-d089-6754e60f5209"
      },
      "execution_count": 2,
      "outputs": [
        {
          "output_type": "stream",
          "name": "stdout",
          "text": [
            "44\n"
          ]
        }
      ]
    },
    {
      "cell_type": "markdown",
      "source": [
        "랜덤 함수"
      ],
      "metadata": {
        "id": "Fq_j9gX9Yr6A"
      }
    },
    {
      "cell_type": "code",
      "source": [
        "import random \n",
        "com_number = random.randint(1,45)\n",
        "print(\"** 컴퓨터과 생각한 숫자를 맞추는 게임 **\")\n",
        "print(\"숫자는 1부터 45까지 입니다\")\n",
        "\n",
        "while com_number != user_number :\n",
        "  user_number = int(input(\"숫자를 입력 :\"))\n",
        "  if com_number > user_number :\n",
        "    print(\"입력한 숫자가 적습니다.\")\n",
        "  elif com_number < user_number :\n",
        "    print(\"입력한 숫자가 더 큽니다.\")\n",
        "  else :\n",
        "    print(\"정답\")"
      ],
      "metadata": {
        "colab": {
          "base_uri": "https://localhost:8080/"
        },
        "id": "2CrMbA34VVmp",
        "outputId": "4af5054d-1215-4ad2-88d1-e2011e94d1d9"
      },
      "execution_count": 6,
      "outputs": [
        {
          "output_type": "stream",
          "name": "stdout",
          "text": [
            "** 컴퓨터과 생각한 숫자를 맞추는 게임 **\n",
            "숫자는 1부터 45까지 입니다\n",
            "숫자를 입력 :10\n",
            "입력한 숫자가 적습니다.\n",
            "숫자를 입력 :20\n",
            "입력한 숫자가 적습니다.\n",
            "숫자를 입력 :25\n",
            "입력한 숫자가 더 큽니다.\n",
            "숫자를 입력 :23\n",
            "입력한 숫자가 적습니다.\n",
            "숫자를 입력 :24\n",
            "정답\n"
          ]
        }
      ]
    },
    {
      "cell_type": "markdown",
      "source": [
        "가위 바위 보 게임"
      ],
      "metadata": {
        "id": "2kRRakLPbkOH"
      }
    },
    {
      "cell_type": "code",
      "source": [
        "import random\n",
        "print(\"** 가위 바위 보 게임 **\")\n",
        "count = 7 \n",
        "while count > 0 :\n",
        "  com_player = random.choice([\"가위\",\"바위\",\"보\"])\n",
        "  user_player = input(\"가위/바위/보 중 하나를 입력하세요 ==>\")\n"
      ],
      "metadata": {
        "id": "-op1EOThYmWQ"
      },
      "execution_count": null,
      "outputs": []
    }
  ]
}