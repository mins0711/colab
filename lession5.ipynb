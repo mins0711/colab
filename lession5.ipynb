{
  "nbformat": 4,
  "nbformat_minor": 0,
  "metadata": {
    "colab": {
      "provenance": [],
      "collapsed_sections": [],
      "authorship_tag": "ABX9TyNqIvoK9WZV8usWIB/nK3V2",
      "include_colab_link": true
    },
    "kernelspec": {
      "name": "python3",
      "display_name": "Python 3"
    },
    "language_info": {
      "name": "python"
    }
  },
  "cells": [
    {
      "cell_type": "markdown",
      "metadata": {
        "id": "view-in-github",
        "colab_type": "text"
      },
      "source": [
        "<a href=\"https://colab.research.google.com/github/mins0711/colab/blob/main/lession5.ipynb\" target=\"_parent\"><img src=\"https://colab.research.google.com/assets/colab-badge.svg\" alt=\"Open In Colab\"/></a>"
      ]
    },
    {
      "cell_type": "code",
      "execution_count": null,
      "metadata": {
        "colab": {
          "base_uri": "https://localhost:8080/"
        },
        "id": "cSiM_2kzLuDx",
        "outputId": "3e14f3cc-51eb-4f8f-dc1f-5701325f9a33"
      },
      "outputs": [
        {
          "output_type": "stream",
          "name": "stdout",
          "text": [
            "숫자를 입력 ==>50\n",
            "ㅋ 100보다 작네?\n"
          ]
        }
      ],
      "source": [
        "num = int(input(\"숫자를 입력 ==>\"))\n",
        "\n",
        "if num > 100 :\n",
        "  if num < 1000 :\n",
        "    print(\"100보다 크고 1000보다 작군요.\")\n",
        "  else :\n",
        "    print(\"와! 1000보다 크네!\")\n",
        "else:\n",
        "  print(\"ㅋ 100보다 작네?\")"
      ]
    },
    {
      "cell_type": "code",
      "source": [
        "score = int(input(\"점수를 입력 ==>\"))\n",
        "\n",
        "if score >= 90 :\n",
        "  print(\"A\",end='')\n",
        "else :\n",
        "  if score >= 80 :\n",
        "    print(\"B\",end='')\n",
        "  else :\n",
        "    if score >=70 :\n",
        "      print(\"C\",end='')\n",
        "    else :\n",
        "      if score >=60 :\n",
        "        print(\"D\",end='')\n",
        "      else :\n",
        "          print(\"F\",end='')\n",
        "print(\"학점입니다\")"
      ],
      "metadata": {
        "colab": {
          "base_uri": "https://localhost:8080/"
        },
        "id": "O7Fp6NvINlZx",
        "outputId": "d03784d4-7c08-40e1-df37-18f3e71a53b7"
      },
      "execution_count": null,
      "outputs": [
        {
          "output_type": "stream",
          "name": "stdout",
          "text": [
            "점수를 입력 ==>50\n",
            "F학점입니다\n"
          ]
        }
      ]
    },
    {
      "cell_type": "code",
      "source": [
        "score = int(input(\"점수를 입력 ==>\"))\n",
        "\n",
        "if score >= 90 :\n",
        "  print(\"A\",end='')\n",
        "elif score >= 80 :\n",
        "  print(\"B\",end='')\n",
        "elif score >= 70 :\n",
        "  print(\"C\",end='')\n",
        "elif score >= 60 :\n",
        "  print(\"D\",end='')\n",
        "else :\n",
        "  print(\"F\",end='')\n",
        "  print(\"학점입니다\")"
      ],
      "metadata": {
        "colab": {
          "base_uri": "https://localhost:8080/"
        },
        "id": "Y3Zj2n0hO0Kf",
        "outputId": "b31e461d-28c5-4c69-f09d-35c843271ea2"
      },
      "execution_count": null,
      "outputs": [
        {
          "output_type": "stream",
          "name": "stdout",
          "text": [
            "점수를 입력 ==>60\n",
            "D"
          ]
        }
      ]
    },
    {
      "cell_type": "code",
      "source": [
        "age = int(input(\"나이를 입력 ==>\"))\n",
        "\n",
        "if age >= 18 :\n",
        "  print(\"즐거운 시간 되십쇼\")\n",
        "else :\n",
        "  print(\"집에 갈 시간이네\")\n",
        "\n",
        "print(\"협조에 감사합니다\")"
      ],
      "metadata": {
        "id": "ktXibXK2RdD_"
      },
      "execution_count": null,
      "outputs": []
    },
    {
      "cell_type": "code",
      "source": [
        "import random\n",
        "\n",
        "myHand = input(\"나의 가위/바위/보 ==>\")\n",
        "comHand = random.choice([\"가위\",\"바위\",\"보\"])\n",
        "print(\"컴퓨터의 가위/바위/보==>\",comHand)\n",
        "\n",
        "if myHand ==comHand :\n",
        "  print(\"비켰습니다. --.--\")\n",
        "\n",
        "elif (myHand == \"가위\" and comHand == \"보\") or \\\n",
        "     (myHand == \"바위\" and comHand == \"가위\") or \\\n",
        "     (myHand == \"보\" and comHand == \"바위\"):\n",
        "    print(\"캈다.\")\n",
        "else:\n",
        "  print(\"가루바나나\")"
      ],
      "metadata": {
        "colab": {
          "base_uri": "https://localhost:8080/"
        },
        "id": "w4wOcPGbg5NS",
        "outputId": "469c84fb-87a5-4a95-8cfb-a0901c323d98"
      },
      "execution_count": null,
      "outputs": [
        {
          "output_type": "stream",
          "name": "stdout",
          "text": [
            "나의 가위/바위/보 ==>바위\n",
            "컴퓨터의 가위/바위/보==> 보\n",
            "가루바나나\n"
          ]
        }
      ]
    },
    {
      "cell_type": "code",
      "source": [
        "!pip3 install ColabTurtle\n",
        "import ColabTurtle.Turtle as Turtle\n",
        "import random\n",
        "print(turtle.default.window_size\n",
        "turtle.initializeTurtle()\n",
        "\n",
        "while True :\n",
        "  turtle. left(random.reandit(0,360))\n",
        "  turtle.forward(random.randint(100,200))\n",
        "  if 800 <=turtle.getx() or turtle.getx() <= 0 or \\\n",
        "  500 <= turtle.gety() or turtle.gety() <= 0:\n",
        "    turtle.goto(400,250)"
      ],
      "metadata": {
        "colab": {
          "base_uri": "https://localhost:8080/",
          "height": 137
        },
        "id": "yKC2WU-pi9ZV",
        "outputId": "1a834ac8-bcb4-4346-db08-3544306c5ee1"
      },
      "execution_count": 40,
      "outputs": [
        {
          "output_type": "error",
          "ename": "SyntaxError",
          "evalue": "ignored",
          "traceback": [
            "\u001b[0;36m  File \u001b[0;32m\"<ipython-input-40-05c41eb9eb5f>\"\u001b[0;36m, line \u001b[0;32m5\u001b[0m\n\u001b[0;31m    turtle.initializeTurtle()\u001b[0m\n\u001b[0m         ^\u001b[0m\n\u001b[0;31mSyntaxError\u001b[0m\u001b[0;31m:\u001b[0m invalid syntax\n"
          ]
        }
      ]
    }
  ]
}