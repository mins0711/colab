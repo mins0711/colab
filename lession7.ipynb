{
  "nbformat": 4,
  "nbformat_minor": 0,
  "metadata": {
    "colab": {
      "provenance": [],
      "authorship_tag": "ABX9TyMYf8vWExGBvNOguVlkUARs",
      "include_colab_link": true
    },
    "kernelspec": {
      "name": "python3",
      "display_name": "Python 3"
    },
    "language_info": {
      "name": "python"
    }
  },
  "cells": [
    {
      "cell_type": "markdown",
      "metadata": {
        "id": "view-in-github",
        "colab_type": "text"
      },
      "source": [
        "<a href=\"https://colab.research.google.com/github/mins0711/colab/blob/main/lession7.ipynb\" target=\"_parent\"><img src=\"https://colab.research.google.com/assets/colab-badge.svg\" alt=\"Open In Colab\"/></a>"
      ]
    },
    {
      "cell_type": "code",
      "execution_count": null,
      "metadata": {
        "id": "qAlEEolixX-5"
      },
      "outputs": [],
      "source": [
        "import requests\n",
        "from bs4 import beauifulsoup as bs\n",
        "\n",
        "page =  requests.get(\"https://media.naver.com/press/437/ranking?type=popular\")\n",
        "soup = bs(page.text. \"html.parser\")\n",
        "elements = soup.findAll('strong', class_=\"list_title\")\n",
        "ni = 1\n",
        "for news in elements :\n",
        "  print(no, \"번쨰 뉴스입니다\", news.text)\n",
        "  no = no + 1\n",
        "  "
      ]
    },
    {
      "cell_type": "code",
      "source": [],
      "metadata": {
        "id": "AUytdZ7XAvIf"
      },
      "execution_count": null,
      "outputs": []
    }
  ]
}