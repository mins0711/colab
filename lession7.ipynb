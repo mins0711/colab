{
  "nbformat": 4,
  "nbformat_minor": 0,
  "metadata": {
    "colab": {
      "provenance": [],
      "collapsed_sections": [],
      "authorship_tag": "ABX9TyPvMAJzuN8o2qAFPGzPYogw",
      "include_colab_link": true
    },
    "kernelspec": {
      "name": "python3",
      "display_name": "Python 3"
    },
    "language_info": {
      "name": "python"
    }
  },
  "cells": [
    {
      "cell_type": "markdown",
      "metadata": {
        "id": "view-in-github",
        "colab_type": "text"
      },
      "source": [
        "<a href=\"https://colab.research.google.com/github/mins0711/colab/blob/main/lession7.ipynb\" target=\"_parent\"><img src=\"https://colab.research.google.com/assets/colab-badge.svg\" alt=\"Open In Colab\"/></a>"
      ]
    },
    {
      "cell_type": "code",
      "execution_count": null,
      "metadata": {
        "id": "qAlEEolixX-5"
      },
      "outputs": [],
      "source": [
        "import requests\n",
        "from bs4 import beauifulsoup as bs\n",
        "\n",
        "page =  requests.get(\"https://media.naver.com/press/437/ranking?type=popular\")\n",
        "soup = bs(page.text. \"html.parser\")\n",
        "elements = soup.findAll('strong', class_=\"list_title\")\n",
        "ni = 1\n",
        "for news in elements :\n",
        "  print(no, \"번쨰 뉴스입니다\", news.text)\n",
        "  no = no + 1\n",
        "  "
      ]
    },
    {
      "cell_type": "code",
      "source": [
        "import random\n",
        "\n",
        "wisesay = [\"실패는 성공의 어머니\",\n",
        "           \"실패가 있기에 성공이 있다\",\n",
        "           \"실패를 무서워하지말라 진정 무서워해야하는것은 포기하는것이다\"]\n",
        "today = random.randint(0, len(wisesay)-1)\n",
        "print(\"오늘의 명언 ==>\",wisesay[today])"
      ],
      "metadata": {
        "id": "AUytdZ7XAvIf",
        "colab": {
          "base_uri": "https://localhost:8080/"
        },
        "outputId": "1772c0a9-3417-4165-c9db-276840e1ed7a"
      },
      "execution_count": null,
      "outputs": [
        {
          "output_type": "stream",
          "name": "stdout",
          "text": [
            "오늘의 명언 ==> 실패를 무서워하지말라 진정 무서워해야하는것은 포기하는것이다\n"
          ]
        }
      ]
    },
    {
      "cell_type": "code",
      "source": [
        "numlist2 = [[1,2,3,4],\n",
        "            [5,6,7,8],\n",
        "            [9,,10,11,12]]\n",
        "\n",
        "for i in range(0,3) :\n",
        "  for  k in range(0,4) :\n",
        "    print(\" \",numlist2[i][k],end='')\n",
        "  print(\"\")"
      ],
      "metadata": {
        "colab": {
          "base_uri": "https://localhost:8080/",
          "height": 137
        },
        "id": "-BynpdSF7B4E",
        "outputId": "5098d803-f4ae-44f4-bbe0-bd3ba58b10b3"
      },
      "execution_count": null,
      "outputs": [
        {
          "output_type": "error",
          "ename": "SyntaxError",
          "evalue": "ignored",
          "traceback": [
            "\u001b[0;36m  File \u001b[0;32m\"<ipython-input-6-92364e9c3e97>\"\u001b[0;36m, line \u001b[0;32m3\u001b[0m\n\u001b[0;31m    [9,,10,11,12]]\u001b[0m\n\u001b[0m       ^\u001b[0m\n\u001b[0;31mSyntaxError\u001b[0m\u001b[0;31m:\u001b[0m invalid syntax\n"
          ]
        }
      ]
    },
    {
      "cell_type": "code",
      "source": [
        "print(\"홍길동 선수 경기 끝났습니다\")\n",
        "\n",
        "score = []\n",
        "for i in range(5) :\n",
        "  jimsu = int(input(\"평균 점수 ==>\"))\n",
        "  score.append(jimsu)\n",
        "\n",
        "hap = 0\n",
        "for i in range(5) :\n",
        "  hap += score[i]\n",
        "\n",
        "avg = hap / 5\n",
        "print(\"심사위원 평균 점수 : \", avg)"
      ],
      "metadata": {
        "colab": {
          "base_uri": "https://localhost:8080/"
        },
        "id": "xU1j0WbB9su6",
        "outputId": "dd7413b2-6423-417c-dbdd-af883adfa529"
      },
      "execution_count": null,
      "outputs": [
        {
          "output_type": "stream",
          "name": "stdout",
          "text": [
            "홍길동 선수 경기 끝났습니다\n",
            "평균 점수 ==>80\n",
            "평균 점수 ==>80\n",
            "평균 점수 ==>808\n",
            "평균 점수 ==>80\n",
            "평균 점수 ==>80\n",
            "심사위원 평균 점수 :  225.6\n"
          ]
        }
      ]
    },
    {
      "cell_type": "code",
      "source": [
        "toss = []\n",
        "\n",
        "for i in range(10000) :\n",
        "  comA = random.choice([\"가위\",\"바위\",\"보\"])\n",
        "  comB = random.choice([\"가위\",\"바위\",\"보\"])\n",
        "\n",
        "  if(comA==comB) :\n",
        "    toss.append(\"비김\")\n",
        "  elif(comA==\"가위\") and (comB == \"보\") or \\\n",
        "      (comA==\"바위\") and (comB == \"가위\") or \\\n",
        "      (comA==\"보\") and (comB == \"바위\") :\n",
        "    toss.append(\"A\")\n",
        "  else :\n",
        "    toss.append(\"B\")\n",
        "  #print(comA,comB,com[i])\n",
        "\n",
        "aWin = toss.count(\"A\")\n",
        "bWin = toss.count(\"B\")"
      ],
      "metadata": {
        "id": "5d5CD9Tz-_Xq"
      },
      "execution_count": null,
      "outputs": []
    },
    {
      "cell_type": "code",
      "source": [
        "singer = {}\n",
        "singer['이름'] = '트와이스'\n",
        "singer['구성원수'] = 9\n",
        "singer['데뷰'] = '서바이벌 식스틴'\n",
        "singer['대표곡'] = 'CRY FOR ME'\n",
        "\n",
        "for k in singer.keys() :\n",
        "  print(k,\"==>\"singer[k])"
      ],
      "metadata": {
        "id": "gt8BjNuoFOVZ"
      },
      "execution_count": null,
      "outputs": []
    },
    {
      "cell_type": "code",
      "source": [
        "store = {}\n",
        "print(\"*** 물품과 재고량 입력 ***\")\n",
        "article = input(\"입력 물풀 :\")\n",
        "store[article] = int(input(\"재고량 : \"))\n",
        "print(store)"
      ],
      "metadata": {
        "colab": {
          "base_uri": "https://localhost:8080/"
        },
        "id": "1IXVKpy-H-Kb",
        "outputId": "5cd82810-d36b-4102-ca67-c0267b830c06"
      },
      "execution_count": null,
      "outputs": [
        {
          "output_type": "stream",
          "name": "stdout",
          "text": [
            "*** 물품과 재고량 입력 ***\n",
            "입력 물풀 :사과\n",
            "재고량 : 20\n",
            "{'사과': 20}\n"
          ]
        }
      ]
    },
    {
      "cell_type": "code",
      "source": [
        "store = {}\n",
        "print(\" *** 물품과 재고량 입력 ***\")\n",
        "while True :\n",
        "  item = input(\"입력 물품 ==>\")\n",
        "  if item == \"z\" :\n",
        "    break\n",
        "  count = int(Input(\"재고량 ==>\"))\n",
        "  store[item]"
      ],
      "metadata": {
        "id": "hrxZD5ePJMEJ"
      },
      "execution_count": null,
      "outputs": []
    },
    {
      "cell_type": "code",
      "source": [
        "#ipip3!pip3 install ColabTurtle\n",
        "import ColabTurtle.Turtle as Turtle\n",
        "import random\n",
        "print(turtle.default.window_size\n",
        "turtle.initializeTurtle()\n",
        "\n",
        "while True :\n",
        "  turtle. left(random.reandit(0,360))\n",
        "  turtle.forward(random.randint(100,200))\n",
        "  if 800 <=turtle.getx() or turtle.getx() <= 0 or \\\n",
        "  500 <= turtle.gety() or turtle.gety() <= 0:\n",
        "    turtle.goto(400,250)"
      ],
      "metadata": {
        "id": "o64Y2AUXNNt_"
      },
      "execution_count": null,
      "outputs": []
    },
    {
      "cell_type": "code",
      "source": [],
      "metadata": {
        "id": "onBoPnipVbAs"
      },
      "execution_count": null,
      "outputs": []
    }
  ]
}