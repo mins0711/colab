{
  "nbformat": 4,
  "nbformat_minor": 0,
  "metadata": {
    "colab": {
      "provenance": [],
      "collapsed_sections": [],
      "authorship_tag": "ABX9TyMTMrBoaC4MUlyBA7xInwd5",
      "include_colab_link": true
    },
    "kernelspec": {
      "name": "python3",
      "display_name": "Python 3"
    },
    "language_info": {
      "name": "python"
    }
  },
  "cells": [
    {
      "cell_type": "markdown",
      "metadata": {
        "id": "view-in-github",
        "colab_type": "text"
      },
      "source": [
        "<a href=\"https://colab.research.google.com/github/mins0711/colab/blob/main/lession3_ipynb.ipynb\" target=\"_parent\"><img src=\"https://colab.research.google.com/assets/colab-badge.svg\" alt=\"Open In Colab\"/></a>"
      ]
    },
    {
      "cell_type": "code",
      "execution_count": null,
      "metadata": {
        "id": "FYqbvXxu5mCH"
      },
      "outputs": [],
      "source": []
    },
    {
      "cell_type": "markdown",
      "source": [
        "나눠지는 수 ==> 25\n",
        "나누는 수 ==> 10\n",
        "25 // 10 = 2\n",
        "25 % 10 = 5"
      ],
      "metadata": {
        "id": "AsiEhzNm6L9W"
      }
    },
    {
      "cell_type": "code",
      "source": [
        "num = int(input(\"정수를 입력 ==>\"))\n",
        "it num1 == 0\n",
        "  print(num, \"은(는) 짝수입니다\")\n",
        "  print(\"ok\")\n",
        "else\n",
        "  print(num, \"은(는) 홀수 입니다\")"
      ],
      "metadata": {
        "colab": {
          "base_uri": "https://localhost:8080/",
          "height": 137
        },
        "id": "BslH2YvN6gJ1",
        "outputId": "c51618d5-154e-4dce-c7aa-e207533f6207"
      },
      "execution_count": null,
      "outputs": [
        {
          "output_type": "error",
          "ename": "SyntaxError",
          "evalue": "ignored",
          "traceback": [
            "\u001b[0;36m  File \u001b[0;32m\"<ipython-input-3-efb227f25687>\"\u001b[0;36m, line \u001b[0;32m2\u001b[0m\n\u001b[0;31m    it num1 == 0\u001b[0m\n\u001b[0m          ^\u001b[0m\n\u001b[0;31mSyntaxError\u001b[0m\u001b[0;31m:\u001b[0m invalid syntax\n"
          ]
        }
      ]
    },
    {
      "cell_type": "markdown",
      "source": [
        "소스코드"
      ],
      "metadata": {
        "id": "HnRJ1G_49QBN"
      }
    },
    {
      "cell_type": "code",
      "source": [
        "pound = int(input(\"파운드(lb)를 입력하세요\"))\n",
        "kg = pound * 0.453592\n",
        "print(pound, \"파운드(lb)는\" , round(kg,5) , \"킬로그램(kg)입니다\")\n",
        "\n",
        "kg = int(input(\"킬로그램(kg)을 입력하세요 : \"))\n",
        "pound = kg * 2.204623\n",
        "print(kg, \"킬로그램(kg)은\" , round(pound,5) , \"파운드(lb))입니다\")"
      ],
      "metadata": {
        "colab": {
          "base_uri": "https://localhost:8080/"
        },
        "id": "Ohg7Ck-u7p39",
        "outputId": "9c3961de-df9b-475a-ac57-e8932e355846"
      },
      "execution_count": null,
      "outputs": [
        {
          "output_type": "stream",
          "name": "stdout",
          "text": [
            "파운드(lb)를 입력하세요2\n",
            "2 파운드(lb)는 0.90718 킬로그램(kg)입니다\n",
            "킬로그램(kg)을 입력하세요 : 6\n",
            "6 킬로그램(kg)은 13.22774 파운드(lb))입니다\n"
          ]
        }
      ]
    },
    {
      "cell_type": "markdown",
      "source": [
        "bmi 계산기"
      ],
      "metadata": {
        "id": "B2qp011D-QpM"
      }
    },
    {
      "cell_type": "code",
      "source": [
        "weight = float(input(\"몸무게를 입력 ==>\"))\n",
        "height = float(input(\"키(신장)을 입력(cm)\"))\n",
        "height = height / 100\n",
        "bmi = round(weight / (height * height),1)\n",
        "\n",
        "print(\"당신의 bmi : \",bmi)"
      ],
      "metadata": {
        "colab": {
          "base_uri": "https://localhost:8080/"
        },
        "id": "raVSLI309dgt",
        "outputId": "973c5b18-1668-46ec-88e6-c5722d5f7a41"
      },
      "execution_count": null,
      "outputs": [
        {
          "output_type": "stream",
          "name": "stdout",
          "text": [
            "몸무게를 입력 ==>80\n",
            "키(신장)을 입력(cm)185\n",
            "당신의 bmi :  23.4\n"
          ]
        }
      ]
    },
    {
      "cell_type": "markdown",
      "source": [
        "편의점 하루 매충 계산"
      ],
      "metadata": {
        "id": "O9bBmSkgAyIM"
      }
    },
    {
      "cell_type": "code",
      "source": [
        "total = 0\n",
        "\n",
        "#구입한 물건\n",
        "total -= 900 * 10 #삼각김밥 10개\n",
        "total -= 3500 * 5 #도시락 5개\n",
        "\n",
        "#판매한 물품\n",
        "total += 1800 * 2 #바나나맛 우유\n",
        "total += 4000 * 4 #도시락 4개\n",
        "total += 1500 #콜라 1개\n",
        "total += 2000 * 4 #새우깡 4개\n",
        "total += 1800 * 5 #캔커피 5개\n",
        "\n",
        "print(\"오늘 총 매출액은 \",total, \"입니다\")"
      ],
      "metadata": {
        "colab": {
          "base_uri": "https://localhost:8080/"
        },
        "id": "UqnScQzQAxns",
        "outputId": "27d6727e-05a0-4227-aa19-2d16f1c30225"
      },
      "execution_count": null,
      "outputs": [
        {
          "output_type": "stream",
          "name": "stdout",
          "text": [
            "오늘 총 매출액은  11600 입니다\n"
          ]
        }
      ]
    },
    {
      "cell_type": "markdown",
      "source": [
        "비교 연산자의 활용"
      ],
      "metadata": {
        "id": "zFuAxO_eE-JZ"
      }
    },
    {
      "cell_type": "code",
      "source": [
        "score = int(input(\"필기 시험점수를 입력하세요 ==>\"))\n",
        "print(score >= 70)"
      ],
      "metadata": {
        "colab": {
          "base_uri": "https://localhost:8080/"
        },
        "id": "TRmUy6tkE6r7",
        "outputId": "9daf1650-9751-4f85-a375-3834134df75d"
      },
      "execution_count": null,
      "outputs": [
        {
          "output_type": "stream",
          "name": "stdout",
          "text": [
            "필기 시험점수를 입력하세요 ==>80\n",
            "True\n"
          ]
        }
      ]
    },
    {
      "cell_type": "code",
      "source": [
        "python = 3\n",
        "mobile = 2\n",
        "excel = 1\n",
        "\n",
        "A = 4.5\n",
        "A0 = 4.0\n",
        "B = 3.5\n",
        "\n",
        "avg = ((python * B) + (mobile * A0) + (excel * A)) / (python + mobile +excel)\n",
        "print(\"평균 학점 : \", avg)\n"
      ],
      "metadata": {
        "colab": {
          "base_uri": "https://localhost:8080/"
        },
        "id": "ypzhEIX3G8MZ",
        "outputId": "2a9f616f-337d-47b4-ae47-69e61bc0a5d3"
      },
      "execution_count": null,
      "outputs": [
        {
          "output_type": "stream",
          "name": "stdout",
          "text": [
            "평균 학점 :  3.8333333333333335\n"
          ]
        }
      ]
    },
    {
      "cell_type": "code",
      "source": [
        "#!pip3 install ColabTurtle\n",
        "import ColabTurtle.Turtle as Turtle\n",
        "Turtle.initializeTurtle()\n",
        "while True :\n",
        "  angle = int (input(\"거북이의 회전 각도\"))\n",
        "  if angle == 0:\n",
        "    break\n",
        "  distance = int(input(\"거북이의 이동거리\"))\n",
        "\n",
        "  Turtle.left(angle)\n",
        "  Turtle.forward (distance)\n",
        "#print(angle , distance)"
      ],
      "metadata": {
        "colab": {
          "base_uri": "https://localhost:8080/",
          "height": 741
        },
        "id": "LANOl92UISlg",
        "outputId": "f29fbacd-b7da-4f4b-a928-cec79f81281b"
      },
      "execution_count": null,
      "outputs": [
        {
          "output_type": "display_data",
          "data": {
            "text/plain": [
              "<IPython.core.display.HTML object>"
            ],
            "text/html": [
              "\n",
              "      <svg width=\"800\" height=\"500\">\n",
              "        <rect width=\"100%\" height=\"100%\" fill=\"black\"/>\n",
              "        <line x1=\"400\" y1=\"250\" x2=\"398.255\" y2=\"150.015\" stroke-linecap=\"round\" style=\"stroke:white;stroke-width:4\"/><line x1=\"398.255\" y1=\"150.015\" x2=\"394.765\" y2=\"50.076\" stroke-linecap=\"round\" style=\"stroke:white;stroke-width:4\"/><line x1=\"394.765\" y1=\"50.076\" x2=\"379.005\" y2=\"37.763\" stroke-linecap=\"round\" style=\"stroke:white;stroke-width:4\"/><line x1=\"379.005\" y1=\"37.763\" x2=\"536.607\" y2=\"160.895\" stroke-linecap=\"round\" style=\"stroke:white;stroke-width:4\"/><line x1=\"536.607\" y1=\"160.895\" x2=\"545.996\" y2=\"143.236\" stroke-linecap=\"round\" style=\"stroke:white;stroke-width:4\"/>\n",
              "        <g visibility=visible transform=\"rotate(388,545.996,143.236) translate(527.996, 125.23599999999999)\">\n",
              "<path style=\" stroke:none;fill-rule:evenodd;fill:white;fill-opacity:1;\" d=\"M 18.214844 0.632812 C 16.109375 1.800781 15.011719 4.074219 15.074219 7.132812 L 15.085938 7.652344 L 14.785156 7.496094 C 13.476562 6.824219 11.957031 6.671875 10.40625 7.066406 C 8.46875 7.550781 6.515625 9.15625 4.394531 11.992188 C 3.0625 13.777344 2.679688 14.636719 3.042969 15.027344 L 3.15625 15.152344 L 3.519531 15.152344 C 4.238281 15.152344 4.828125 14.886719 8.1875 13.039062 C 9.386719 12.378906 10.371094 11.839844 10.378906 11.839844 C 10.386719 11.839844 10.355469 11.929688 10.304688 12.035156 C 9.832031 13.09375 9.257812 14.820312 8.96875 16.078125 C 7.914062 20.652344 8.617188 24.53125 11.070312 27.660156 C 11.351562 28.015625 11.363281 27.914062 10.972656 28.382812 C 8.925781 30.84375 7.945312 33.28125 8.238281 35.1875 C 8.289062 35.527344 8.28125 35.523438 8.917969 35.523438 C 10.941406 35.523438 13.074219 34.207031 15.136719 31.6875 C 15.359375 31.417969 15.328125 31.425781 15.5625 31.574219 C 16.292969 32.042969 18.023438 32.964844 18.175781 32.964844 C 18.335938 32.964844 19.941406 32.210938 20.828125 31.71875 C 20.996094 31.625 21.136719 31.554688 21.136719 31.558594 C 21.203125 31.664062 21.898438 32.414062 22.222656 32.730469 C 23.835938 34.300781 25.5625 35.132812 27.582031 35.300781 C 27.90625 35.328125 27.9375 35.308594 28.007812 34.984375 C 28.382812 33.242188 27.625 30.925781 25.863281 28.425781 L 25.542969 27.96875 L 25.699219 27.785156 C 28.945312 23.960938 29.132812 18.699219 26.257812 11.96875 L 26.207031 11.84375 L 27.945312 12.703125 C 31.53125 14.476562 32.316406 14.800781 33.03125 14.800781 C 33.976562 14.800781 33.78125 13.9375 32.472656 12.292969 C 28.519531 7.355469 25.394531 5.925781 21.921875 7.472656 L 21.558594 7.636719 L 21.578125 7.542969 C 21.699219 6.992188 21.761719 5.742188 21.699219 5.164062 C 21.496094 3.296875 20.664062 1.964844 19.003906 0.855469 C 18.480469 0.503906 18.457031 0.5 18.214844 0.632812\"/>\n",
              "</g>\n",
              "      </svg>\n",
              "    "
            ]
          },
          "metadata": {}
        },
        {
          "name": "stdout",
          "output_type": "stream",
          "text": [
            "거북이의 회전 각도1\n",
            "거북이의 이동거리100\n",
            "거북이의 회전 각도1\n",
            "거북이의 이동거리100\n",
            "거북이의 회전 각도50\n",
            "거북이의 이동거리20\n",
            "거북이의 회전 각도900\n",
            "거북이의 이동거리200\n",
            "거북이의 회전 각도100\n",
            "거북이의 이동거리20\n",
            "거북이의 회전 각도50\n"
          ]
        }
      ]
    }
  ]
}