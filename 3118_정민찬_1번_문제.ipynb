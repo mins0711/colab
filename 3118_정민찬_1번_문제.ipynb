{
  "nbformat": 4,
  "nbformat_minor": 0,
  "metadata": {
    "colab": {
      "provenance": [],
      "collapsed_sections": [],
      "authorship_tag": "ABX9TyNdykuOO3zBfS8sWLrwyW5B",
      "include_colab_link": true
    },
    "kernelspec": {
      "name": "python3",
      "display_name": "Python 3"
    },
    "language_info": {
      "name": "python"
    }
  },
  "cells": [
    {
      "cell_type": "markdown",
      "metadata": {
        "id": "view-in-github",
        "colab_type": "text"
      },
      "source": [
        "<a href=\"https://colab.research.google.com/github/mins0711/colab/blob/main/3118_%EC%A0%95%EB%AF%BC%EC%B0%AC_1%EB%B2%88_%EB%AC%B8%EC%A0%9C.ipynb\" target=\"_parent\"><img src=\"https://colab.research.google.com/assets/colab-badge.svg\" alt=\"Open In Colab\"/></a>"
      ]
    },
    {
      "cell_type": "code",
      "source": [
        "ok = \"Python\"\n",
        "print(\"원본 문자열 ==>\", ok)\n",
        "print(\"변환 문자열 ==>\", end='')"
      ],
      "metadata": {
        "colab": {
          "base_uri": "https://localhost:8080/"
        },
        "id": "kam17qr5wgkg",
        "outputId": "84c7f643-55b1-452d-8993-2c500474b5b8"
      },
      "execution_count": 6,
      "outputs": [
        {
          "output_type": "stream",
          "name": "stdout",
          "text": [
            "원본 문자열 ==> Python\n",
            "변환 문자열 ==>"
          ]
        }
      ]
    }
  ]
}