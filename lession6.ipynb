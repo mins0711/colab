{
  "nbformat": 4,
  "nbformat_minor": 0,
  "metadata": {
    "colab": {
      "provenance": [],
      "collapsed_sections": [],
      "authorship_tag": "ABX9TyNsjaEHDwggLi8mPGfkk/CQ",
      "include_colab_link": true
    },
    "kernelspec": {
      "name": "python3",
      "display_name": "Python 3"
    },
    "language_info": {
      "name": "python"
    }
  },
  "cells": [
    {
      "cell_type": "markdown",
      "metadata": {
        "id": "view-in-github",
        "colab_type": "text"
      },
      "source": [
        "<a href=\"https://colab.research.google.com/github/mins0711/colab/blob/main/lession6.ipynb\" target=\"_parent\"><img src=\"https://colab.research.google.com/assets/colab-badge.svg\" alt=\"Open In Colab\"/></a>"
      ]
    },
    {
      "cell_type": "code",
      "execution_count": 1,
      "metadata": {
        "colab": {
          "base_uri": "https://localhost:8080/"
        },
        "id": "QKcQY8iJvczw",
        "outputId": "4aa136b0-04ee-4e14-a953-472d1cdd12ea"
      },
      "outputs": [
        {
          "output_type": "stream",
          "name": "stdout",
          "text": [
            "난생처음 파이썬은 재미있었나?\n",
            "난생처음 파이썬은 재미있었나?\n",
            "난생처음 파이썬은 재미있었나?\n"
          ]
        }
      ],
      "source": [
        "#백업\n",
        "\n",
        "print(\"난생처음 파이썬은 재미있었나?\")\n",
        "print(\"난생처음 파이썬은 재미있었나?\")\n",
        "print(\"난생처음 파이썬은 재미있었나?\")"
      ]
    },
    {
      "cell_type": "code",
      "source": [
        "myList = [\"짜장면\", \"김밥\", \"라면\"]\n",
        "for i in myList :\n",
        "  print(i)"
      ],
      "metadata": {
        "colab": {
          "base_uri": "https://localhost:8080/"
        },
        "id": "74sWJ0YCwSfE",
        "outputId": "0de94767-ec29-4a24-d632-3147e053a572"
      },
      "execution_count": 3,
      "outputs": [
        {
          "output_type": "stream",
          "name": "stdout",
          "text": [
            "짜장면\n",
            "김밥\n",
            "라면\n"
          ]
        }
      ]
    },
    {
      "cell_type": "code",
      "source": [
        "for i in range(2,8,2):\n",
        "  print(i)"
      ],
      "metadata": {
        "colab": {
          "base_uri": "https://localhost:8080/"
        },
        "id": "Ql0KnLsPxP6v",
        "outputId": "44c9d6bc-d05d-4e25-9a4c-3a3e645b662c"
      },
      "execution_count": 5,
      "outputs": [
        {
          "output_type": "stream",
          "name": "stdout",
          "text": [
            "2\n",
            "4\n",
            "6\n"
          ]
        }
      ]
    },
    {
      "cell_type": "code",
      "source": [
        "sum =0\n",
        "for i in range(1,100,2):\n",
        "  sum =sum+i\n",
        "print(sum)"
      ],
      "metadata": {
        "colab": {
          "base_uri": "https://localhost:8080/"
        },
        "id": "3vppElPgxqdn",
        "outputId": "f6a6faff-a731-47b8-c1a8-f97a7b053164"
      },
      "execution_count": 13,
      "outputs": [
        {
          "output_type": "stream",
          "name": "stdout",
          "text": [
            "2500\n"
          ]
        }
      ]
    },
    {
      "cell_type": "markdown",
      "source": [
        "sum = 1 + 3 + 5 - 7 - 11 ..... + 99"
      ],
      "metadata": {
        "id": "GGvJ5SW0yYd8"
      }
    },
    {
      "cell_type": "code",
      "source": [
        "flag = 1\n",
        "sum = 0\n",
        "for i in range(1, 100, 2):\n",
        "  if flag == 1:\n",
        "    sum = sum + i\n",
        "    flag = flag * -1\n",
        "  else:\n",
        "    sum = sum - i\n",
        "  flag = flag * -1\n",
        "print(sum)"
      ],
      "metadata": {
        "colab": {
          "base_uri": "https://localhost:8080/"
        },
        "id": "6hd9PXvsxvhD",
        "outputId": "cc163763-1c04-47f9-d448-42f5771e98bf"
      },
      "execution_count": 12,
      "outputs": [
        {
          "output_type": "stream",
          "name": "stdout",
          "text": [
            "2500\n"
          ]
        }
      ]
    },
    {
      "cell_type": "code",
      "source": [
        "fact = 1\n",
        "friends_num = 5 \n",
        "\n",
        "for i in range(1, friends_num +1, 1):\n",
        "  fact = fact * i\n",
        "\n",
        "print(\"A,B,C,D,E, 학생들을 순서대로 세우는 경우의수 :\", fact)"
      ],
      "metadata": {
        "colab": {
          "base_uri": "https://localhost:8080/"
        },
        "id": "fvfoHSzTz5L6",
        "outputId": "29ce4ca1-5863-492f-c111-c32496eccd5a"
      },
      "execution_count": 14,
      "outputs": [
        {
          "output_type": "stream",
          "name": "stdout",
          "text": [
            "A,B,C,D,E, 학생들을 순서대로 세우는 경우의수 : 120\n"
          ]
        }
      ]
    },
    {
      "cell_type": "code",
      "source": [
        "i, hap = 0,0\n",
        "\n",
        "for i in range(1001, 2001, 2) :\n",
        "  hap += i\n",
        "\n",
        "print(\"1000에서 2000까지의 홀수의 합 :\", hap)"
      ],
      "metadata": {
        "colab": {
          "base_uri": "https://localhost:8080/"
        },
        "id": "y-hPGBZ52Ut1",
        "outputId": "b6c7327e-f4de-4873-fca5-a5752006aa4f"
      },
      "execution_count": 15,
      "outputs": [
        {
          "output_type": "stream",
          "name": "stdout",
          "text": [
            "1000에서 2000까지의 홀수의 합 : 750000\n"
          ]
        }
      ]
    },
    {
      "cell_type": "code",
      "source": [
        ">>> for i in range (3) :\n",
        "        for k in range(2) :\n",
        "          print(\"난생처음은 쉽습니다?(i값:\",i,\",k값:\",k,\")\")\n",
        "난생처음은 쉽습니다? (i값: 0, k값: 0)\n",
        "난생처음은 쉽습니다? (i값: 0, k값: 1)\n",
        "난생처음은 쉽습니다? (i값: 1, k값: 0)\n",
        "난생처음은 쉽습니다? (i값: 1, k값: 1)\n",
        "난생처음은 쉽습니다? (i값: 2, k값: 0)\n",
        "난생처음은 쉽습니다? (i값: 2, k값: 1)"
      ],
      "metadata": {
        "colab": {
          "base_uri": "https://localhost:8080/",
          "height": 137
        },
        "id": "90ugLJBm2_v0",
        "outputId": "eece953e-424b-409c-b07a-14db9573676a"
      },
      "execution_count": 16,
      "outputs": [
        {
          "output_type": "error",
          "ename": "SyntaxError",
          "evalue": "ignored",
          "traceback": [
            "\u001b[0;36m  File \u001b[0;32m\"<ipython-input-16-32f5eba299dc>\"\u001b[0;36m, line \u001b[0;32m4\u001b[0m\n\u001b[0;31m    난생처음은 쉽다? (i값: 0, k값: 0)\u001b[0m\n\u001b[0m           ^\u001b[0m\n\u001b[0;31mSyntaxError\u001b[0m\u001b[0;31m:\u001b[0m invalid syntax\n"
          ]
        }
      ]
    },
    {
      "cell_type": "code",
      "source": [],
      "metadata": {
        "id": "TawL7l284hhU"
      },
      "execution_count": null,
      "outputs": []
    },
    {
      "cell_type": "code",
      "source": [],
      "metadata": {
        "id": "4UWkioiy40Kz"
      },
      "execution_count": null,
      "outputs": []
    }
  ]
}