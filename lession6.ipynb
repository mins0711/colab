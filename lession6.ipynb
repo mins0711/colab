{
  "nbformat": 4,
  "nbformat_minor": 0,
  "metadata": {
    "colab": {
      "provenance": [],
      "collapsed_sections": [],
      "authorship_tag": "ABX9TyM7NjA6ozvdC/L+365xceYg",
      "include_colab_link": true
    },
    "kernelspec": {
      "name": "python3",
      "display_name": "Python 3"
    },
    "language_info": {
      "name": "python"
    }
  },
  "cells": [
    {
      "cell_type": "markdown",
      "metadata": {
        "id": "view-in-github",
        "colab_type": "text"
      },
      "source": [
        "<a href=\"https://colab.research.google.com/github/mins0711/colab/blob/main/lession6.ipynb\" target=\"_parent\"><img src=\"https://colab.research.google.com/assets/colab-badge.svg\" alt=\"Open In Colab\"/></a>"
      ]
    },
    {
      "cell_type": "code",
      "execution_count": null,
      "metadata": {
        "id": "NumTu55793XL"
      },
      "outputs": [],
      "source": [
        "j = 0\n",
        "j = 0\n",
        "\n",
        "for i in range(2,10) :\n",
        "  for j in range(1,10) :\n",
        "    print(i, \"X\", j, \"=\", i * j)\n",
        "  print(\"\")"
      ]
    },
    {
      "cell_type": "code",
      "source": [
        "hap = 0\n",
        "num1, num2= 0,0\n",
        "\n",
        "while True :\n",
        "  num1 = int(input(\"숫자1 ==>\"))\n",
        "  if num1 == 0 :\n",
        "    break\n",
        "  num2 = int(input(\"숫자2 ==>\"))\n",
        "\n",
        "  hap = num1 +num2\n",
        "  print(num1, \"+\", num2, \"=\", hap)\n",
        "\n",
        "print(\"0을 입력해서 계산을 종료합니다\")"
      ],
      "metadata": {
        "id": "_wpvybyL_i6g"
      },
      "execution_count": null,
      "outputs": []
    },
    {
      "cell_type": "code",
      "source": [
        "import random\n",
        "\n",
        "count = 0\n",
        "dice1,dice2,dice3 = 0,0,0\n",
        "\n",
        "while True :\n",
        "  count += 1\n",
        "  dice1 = random.randint(1,6)\n",
        "  dice2 = random.randint(1,6)\n",
        "  dice3 = random.randint(1,6)\n",
        "\n",
        "  if(dice == dice2 == dice3)\n",
        "    break\n",
        "\n",
        "print(\"3개의 주사위는 모두\",dice1,\"입니다\")\n",
        "print(\"같은 숫자가 나오기까지\", count,\"번 던졌습니다.\")"
      ],
      "metadata": {
        "id": "mXLb36Z8DsZR"
      },
      "execution_count": null,
      "outputs": []
    },
    {
      "cell_type": "code",
      "source": [
        "import random\n",
        "\n",
        "computer, user = 0,0\n",
        "\n",
        "for i in range(1,11) :\n",
        "  computer =random.randint(1,5)\n",
        "  print(\"게임\",i,\"회:\",end='')\n",
        "  user = int(input(\"컴퓨터가 생각한 숫자는?\"))\n",
        "\n",
        "  if computer == user :\n",
        "    print(\"맞췄네요.축하합니다!\")\n",
        "    break\n",
        "  else ;\n",
        "    print(\"아까워요.....\",computer,\"였는데? 다시 한번 해볼래?\")\n",
        "    continue\n",
        "print(\"the end\")"
      ],
      "metadata": {
        "id": "nK9uF0kNGznB"
      },
      "execution_count": null,
      "outputs": []
    }
  ]
}