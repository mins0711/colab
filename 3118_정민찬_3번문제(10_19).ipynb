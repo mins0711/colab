{
  "nbformat": 4,
  "nbformat_minor": 0,
  "metadata": {
    "colab": {
      "provenance": [],
      "collapsed_sections": [],
      "authorship_tag": "ABX9TyPGgJwGKG3wy2ebvfOEcQza",
      "include_colab_link": true
    },
    "kernelspec": {
      "name": "python3",
      "display_name": "Python 3"
    },
    "language_info": {
      "name": "python"
    }
  },
  "cells": [
    {
      "cell_type": "markdown",
      "metadata": {
        "id": "view-in-github",
        "colab_type": "text"
      },
      "source": [
        "<a href=\"https://colab.research.google.com/github/mins0711/colab/blob/main/3118_%EC%A0%95%EB%AF%BC%EC%B0%AC_3%EB%B2%88%EB%AC%B8%EC%A0%9C(10_19).ipynb\" target=\"_parent\"><img src=\"https://colab.research.google.com/assets/colab-badge.svg\" alt=\"Open In Colab\"/></a>"
      ]
    },
    {
      "cell_type": "code",
      "execution_count": 1,
      "metadata": {
        "colab": {
          "base_uri": "https://localhost:8080/"
        },
        "id": "3x1jG9dEDsh6",
        "outputId": "8deeb90a-a51c-47ad-aa16-3a6d39431c2d"
      },
      "outputs": [
        {
          "output_type": "stream",
          "name": "stdout",
          "text": [
            "점수를 입력 ==>77\n",
            "C학점입니다\n"
          ]
        }
      ],
      "source": [
        "score = int(input(\"점수를 입력 ==>\"))\n",
        "\n",
        "if score >= 90 :\n",
        "  print(\"A\",end='')\n",
        "else :\n",
        "  if score >= 80 :\n",
        "    print(\"B\",end='')\n",
        "  else :\n",
        "    if score >=70 :\n",
        "      print(\"C\",end='')\n",
        "    else :\n",
        "      if score >=60 :\n",
        "        print(\"D\",end='')\n",
        "      else :\n",
        "          print(\"F\",end='')\n",
        "print(\"학점입니다\")"
      ]
    }
  ]
}